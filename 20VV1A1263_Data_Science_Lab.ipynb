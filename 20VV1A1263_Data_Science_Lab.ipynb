{
  "nbformat": 4,
  "nbformat_minor": 0,
  "metadata": {
    "colab": {
      "provenance": [],
      "authorship_tag": "ABX9TyNQS8uF42Fr3H6ahsgCmhRJ",
      "include_colab_link": true
    },
    "kernelspec": {
      "name": "python3",
      "display_name": "Python 3"
    },
    "language_info": {
      "name": "python"
    }
  },
  "cells": [
    {
      "cell_type": "markdown",
      "metadata": {
        "id": "view-in-github",
        "colab_type": "text"
      },
      "source": [
        "<a href=\"https://colab.research.google.com/github/s-1-n-t-h/Data-Science-Lab/blob/main/20VV1A1263_Data_Science_Lab.ipynb\" target=\"_parent\"><img src=\"https://colab.research.google.com/assets/colab-badge.svg\" alt=\"Open In Colab\"/></a>"
      ]
    },
    {
      "cell_type": "markdown",
      "source": [
        "**Exp1 : python program to find sum of series 1+1/2+1/3 + ..+1/N**"
      ],
      "metadata": {
        "id": "ZnAiZVKjpatW"
      }
    },
    {
      "cell_type": "code",
      "source": [
        "def sum_of_series(n):\n",
        "    result = 0.0\n",
        "    for i in range(1, n + 1):\n",
        "        result += 1 / i\n",
        "    return result\n",
        "\n",
        "# Get the value of N from the user\n",
        "N = int(input(\"Enter the value of N: \"))\n",
        "\n",
        "# Calculate the sum of the series\n",
        "series_sum = sum_of_series(N)\n",
        "\n",
        "# Display the result\n",
        "print(f\"The sum of the series 1 + 1/2 + 1/3 + ... + 1/{N} is: {series_sum}\")\n"
      ],
      "metadata": {
        "colab": {
          "base_uri": "https://localhost:8080/"
        },
        "id": "G8Llal1zpetz",
        "outputId": "f3bae4ea-f7a0-4fa8-b738-ee9e4aff4e01"
      },
      "execution_count": 1,
      "outputs": [
        {
          "output_type": "stream",
          "name": "stdout",
          "text": [
            "Enter the value of N: 10\n",
            "The sum of the series 1 + 1/2 + 1/3 + ... + 1/10 is: 2.9289682539682538\n"
          ]
        }
      ]
    },
    {
      "cell_type": "markdown",
      "source": [
        "**Exp2: write a python program to split the array and add the first part to the end**"
      ],
      "metadata": {
        "id": "aYCj6dQ5qLae"
      }
    },
    {
      "cell_type": "code",
      "source": [
        "def split_and_add(arr, k):\n",
        "    # Check if the array length is divisible by k\n",
        "    if len(arr) % k != 0:\n",
        "        print(\"Array length is not divisible by k. Cannot perform the operation.\")\n",
        "        return\n",
        "\n",
        "    # Split the array into two parts\n",
        "    first_part = arr[:k]\n",
        "    second_part = arr[k:]\n",
        "\n",
        "    # Add the first part to the end of the array\n",
        "    result_array = second_part + first_part\n",
        "\n",
        "    return result_array\n",
        "\n",
        "# Example usage\n",
        "input_array = list(map(int,input('Enter Array').split(',')))\n",
        "k_value = int(input(\"Enter split index:\"))\n",
        "\n",
        "result = split_and_add(input_array, k_value)\n",
        "\n",
        "print(f\"Original Array: {input_array}\")\n",
        "print(f\"Array after splitting and adding the first part to the end: {result}\")\n"
      ],
      "metadata": {
        "colab": {
          "base_uri": "https://localhost:8080/"
        },
        "id": "VyMVh46SplaQ",
        "outputId": "fd93e9c2-5ceb-499f-9ccb-72f1f56f4abf"
      },
      "execution_count": 2,
      "outputs": [
        {
          "output_type": "stream",
          "name": "stdout",
          "text": [
            "Enter Array1,2,3,4,5,6,7,8,9,0\n",
            "Enter split index:5\n",
            "Original Array: [1, 2, 3, 4, 5, 6, 7, 8, 9, 0]\n",
            "Array after splitting and adding the first part to the end: [6, 7, 8, 9, 0, 1, 2, 3, 4, 5]\n"
          ]
        }
      ]
    },
    {
      "cell_type": "markdown",
      "source": [
        "**Exp3: write a python program to create a list of tuples with the first element as the number and the second one as square of it**"
      ],
      "metadata": {
        "id": "v_WDSVBmqRoq"
      }
    },
    {
      "cell_type": "code",
      "source": [
        "def create_tuples(n):\n",
        "    # Use a list comprehension to create the list of tuples\n",
        "    result_list = [(i, i**2) for i in range(1, n+1)]\n",
        "    return result_list\n",
        "\n",
        "# Example usage\n",
        "n_value = 5\n",
        "tuples_list = create_tuples(n_value)\n",
        "\n",
        "print(f\"List of Tuples with Numbers and Their Squares:\")\n",
        "print(tuples_list)\n"
      ],
      "metadata": {
        "colab": {
          "base_uri": "https://localhost:8080/"
        },
        "id": "yis2kWGPqDy2",
        "outputId": "6b96fa31-9300-427b-f69f-98174257dde9"
      },
      "execution_count": 3,
      "outputs": [
        {
          "output_type": "stream",
          "name": "stdout",
          "text": [
            "List of Tuples with Numbers and Their Squares:\n",
            "[(1, 1), (2, 4), (3, 9), (4, 16), (5, 25)]\n"
          ]
        }
      ]
    },
    {
      "cell_type": "markdown",
      "source": [
        "**Exp4: write a python program to count number of vowels using sets in a given string**"
      ],
      "metadata": {
        "id": "1YZZMEn6qsOe"
      }
    },
    {
      "cell_type": "code",
      "source": [
        "def count_vowels(input_string):\n",
        "    # Define a set of vowels\n",
        "    vowels = set(\"aeiouAEIOU\")\n",
        "\n",
        "    # Use a set intersection to find common elements (vowels) between the string and the vowel set\n",
        "    vowel_count = len(set(input_string) & vowels)\n",
        "\n",
        "    return vowel_count\n",
        "\n",
        "# Example usage\n",
        "input_str = input(\"Enter a string: \")\n",
        "result = count_vowels(input_str)\n",
        "\n",
        "print(f\"Number of vowels in the given string: {result}\")\n"
      ],
      "metadata": {
        "colab": {
          "base_uri": "https://localhost:8080/"
        },
        "id": "o5b5kOp-qp1Y",
        "outputId": "6a27db80-f545-4a7d-dacc-47245ed90a94"
      },
      "execution_count": 5,
      "outputs": [
        {
          "output_type": "stream",
          "name": "stdout",
          "text": [
            "Enter a string: hello how are you!\n",
            "Number of vowels in the given string: 4\n"
          ]
        }
      ]
    },
    {
      "cell_type": "markdown",
      "source": [
        "**Exp5: Write a program to implement permutation of a given string using innbuilt function**"
      ],
      "metadata": {
        "id": "CUb-kGWzrAWc"
      }
    },
    {
      "cell_type": "code",
      "source": [
        "from itertools import permutations\n",
        "\n",
        "def generate_permutations(input_string):\n",
        "    # Use the permutations function to generate all permutations\n",
        "    permuted_strings = permutations(input_string)\n",
        "\n",
        "    # Convert each permutation to a string and store in a list\n",
        "    result_list = [''.join(permutation) for permutation in permuted_strings]\n",
        "\n",
        "    return result_list\n",
        "\n",
        "# Example usage\n",
        "input_str = input(\"Enter a string: \")\n",
        "permutations_list = generate_permutations(input_str)\n",
        "\n",
        "print(f\"Permutations of the given string '{input_str}':\")\n",
        "for permuted_str in permutations_list:\n",
        "    print(permuted_str)\n"
      ],
      "metadata": {
        "colab": {
          "base_uri": "https://localhost:8080/"
        },
        "id": "pIO3AnuIq6Fg",
        "outputId": "07519a65-0fa9-452d-c5a2-126955d6582e"
      },
      "execution_count": 8,
      "outputs": [
        {
          "output_type": "stream",
          "name": "stdout",
          "text": [
            "Enter a string: hello\n",
            "Permutations of the given string 'hello':\n",
            "hello\n",
            "helol\n",
            "hello\n",
            "helol\n",
            "heoll\n",
            "heoll\n",
            "hlelo\n",
            "hleol\n",
            "hlleo\n",
            "hlloe\n",
            "hloel\n",
            "hlole\n",
            "hlelo\n",
            "hleol\n",
            "hlleo\n",
            "hlloe\n",
            "hloel\n",
            "hlole\n",
            "hoell\n",
            "hoell\n",
            "holel\n",
            "holle\n",
            "holel\n",
            "holle\n",
            "ehllo\n",
            "ehlol\n",
            "ehllo\n",
            "ehlol\n",
            "eholl\n",
            "eholl\n",
            "elhlo\n",
            "elhol\n",
            "ellho\n",
            "elloh\n",
            "elohl\n",
            "elolh\n",
            "elhlo\n",
            "elhol\n",
            "ellho\n",
            "elloh\n",
            "elohl\n",
            "elolh\n",
            "eohll\n",
            "eohll\n",
            "eolhl\n",
            "eollh\n",
            "eolhl\n",
            "eollh\n",
            "lhelo\n",
            "lheol\n",
            "lhleo\n",
            "lhloe\n",
            "lhoel\n",
            "lhole\n",
            "lehlo\n",
            "lehol\n",
            "lelho\n",
            "leloh\n",
            "leohl\n",
            "leolh\n",
            "llheo\n",
            "llhoe\n",
            "lleho\n",
            "lleoh\n",
            "llohe\n",
            "lloeh\n",
            "lohel\n",
            "lohle\n",
            "loehl\n",
            "loelh\n",
            "lolhe\n",
            "loleh\n",
            "lhelo\n",
            "lheol\n",
            "lhleo\n",
            "lhloe\n",
            "lhoel\n",
            "lhole\n",
            "lehlo\n",
            "lehol\n",
            "lelho\n",
            "leloh\n",
            "leohl\n",
            "leolh\n",
            "llheo\n",
            "llhoe\n",
            "lleho\n",
            "lleoh\n",
            "llohe\n",
            "lloeh\n",
            "lohel\n",
            "lohle\n",
            "loehl\n",
            "loelh\n",
            "lolhe\n",
            "loleh\n",
            "ohell\n",
            "ohell\n",
            "ohlel\n",
            "ohlle\n",
            "ohlel\n",
            "ohlle\n",
            "oehll\n",
            "oehll\n",
            "oelhl\n",
            "oellh\n",
            "oelhl\n",
            "oellh\n",
            "olhel\n",
            "olhle\n",
            "olehl\n",
            "olelh\n",
            "ollhe\n",
            "olleh\n",
            "olhel\n",
            "olhle\n",
            "olehl\n",
            "olelh\n",
            "ollhe\n",
            "olleh\n"
          ]
        }
      ]
    },
    {
      "cell_type": "markdown",
      "source": [
        "**Exp6: write a python program to sort list of dictionaries by values in python using lambda function**"
      ],
      "metadata": {
        "id": "eXKrS5DjrpiH"
      }
    },
    {
      "cell_type": "code",
      "source": [
        "# List of dictionaries\n",
        "data = [\n",
        "    {'name': 'Alice', 'age': 30, 'salary': 50000},\n",
        "    {'name': 'Bob', 'age': 25, 'salary': 60000},\n",
        "    {'name': 'Charlie', 'age': 35, 'salary': 45000}\n",
        "]\n",
        "\n",
        "# Sort the list of dictionaries by the 'age' key using a lambda function\n",
        "sorted_data_by_age = sorted(data, key=lambda x: x['age'])\n",
        "\n",
        "# Display the sorted list\n",
        "print(\"Sorted by age:\")\n",
        "print(sorted_data_by_age)\n",
        "\n",
        "# Sort the list of dictionaries by the 'salary' key using a lambda function\n",
        "sorted_data_by_salary = sorted(data, key=lambda x: x['salary'])\n",
        "\n",
        "# Display the sorted list\n",
        "print(\"\\nSorted by salary:\")\n",
        "print(sorted_data_by_salary)\n"
      ],
      "metadata": {
        "colab": {
          "base_uri": "https://localhost:8080/"
        },
        "id": "xHL3PwIjrPAe",
        "outputId": "9bbf6c51-315f-423c-eaaf-903a099664aa"
      },
      "execution_count": 9,
      "outputs": [
        {
          "output_type": "stream",
          "name": "stdout",
          "text": [
            "Sorted by age:\n",
            "[{'name': 'Bob', 'age': 25, 'salary': 60000}, {'name': 'Alice', 'age': 30, 'salary': 50000}, {'name': 'Charlie', 'age': 35, 'salary': 45000}]\n",
            "\n",
            "Sorted by salary:\n",
            "[{'name': 'Charlie', 'age': 35, 'salary': 45000}, {'name': 'Alice', 'age': 30, 'salary': 50000}, {'name': 'Bob', 'age': 25, 'salary': 60000}]\n"
          ]
        }
      ]
    },
    {
      "cell_type": "markdown",
      "source": [
        "**Exp7: write a python program for following sorting: 1. Quick Sort 2. Heap Sort**"
      ],
      "metadata": {
        "id": "v1ytrmxMrySQ"
      }
    },
    {
      "cell_type": "code",
      "source": [
        "# Quick Sort\n",
        "def quick_sort(arr):\n",
        "    if len(arr) <= 1:\n",
        "        return arr\n",
        "    pivot = arr[len(arr) // 2]\n",
        "    left = [x for x in arr if x < pivot]\n",
        "    middle = [x for x in arr if x == pivot]\n",
        "    right = [x for x in arr if x > pivot]\n",
        "    return quick_sort(left) + middle + quick_sort(right)\n",
        "\n",
        "# Heap Sort\n",
        "def heapify(arr, n, i):\n",
        "    largest = i\n",
        "    left = 2 * i + 1\n",
        "    right = 2 * i + 2\n",
        "\n",
        "    if left < n and arr[i] < arr[left]:\n",
        "        largest = left\n",
        "\n",
        "    if right < n and arr[largest] < arr[right]:\n",
        "        largest = right\n",
        "\n",
        "    if largest != i:\n",
        "        arr[i], arr[largest] = arr[largest], arr[i]\n",
        "        heapify(arr, n, largest)\n",
        "\n",
        "def heap_sort(arr):\n",
        "    n = len(arr)\n",
        "\n",
        "    for i in range(n // 2 - 1, -1, -1):\n",
        "        heapify(arr, n, i)\n",
        "\n",
        "    for i in range(n - 1, 0, -1):\n",
        "        arr[i], arr[0] = arr[0], arr[i]\n",
        "        heapify(arr, i, 0)\n",
        "\n",
        "# Example usage\n",
        "input_array = [64, 34, 25, 12, 22, 11, 90]\n",
        "\n",
        "# Quick Sort\n",
        "sorted_array_quick_sort = quick_sort(input_array.copy())\n",
        "print(\"Sorted array using Quick Sort:\", sorted_array_quick_sort)\n",
        "\n",
        "# Heap Sort\n",
        "input_array_heap_sort = input_array.copy()\n",
        "heap_sort(input_array_heap_sort)\n",
        "print(\"Sorted array using Heap Sort:\", input_array_heap_sort)\n"
      ],
      "metadata": {
        "colab": {
          "base_uri": "https://localhost:8080/"
        },
        "id": "LedbVeBarwtG",
        "outputId": "9b559123-d38d-4102-e34c-236c2f2b79ef"
      },
      "execution_count": 11,
      "outputs": [
        {
          "output_type": "stream",
          "name": "stdout",
          "text": [
            "Sorted array using Quick Sort: [11, 12, 22, 25, 34, 64, 90]\n",
            "Sorted array using Heap Sort: [11, 12, 22, 25, 34, 64, 90]\n"
          ]
        }
      ]
    },
    {
      "cell_type": "markdown",
      "source": [
        "**Exp8: write a python program to reverse a string using recursion\n",
        "ChatGPT**"
      ],
      "metadata": {
        "id": "oZImiIrPsNcr"
      }
    },
    {
      "cell_type": "code",
      "source": [
        "def reverse_string_recursive(input_str):\n",
        "    # Base case: if the string is empty or has only one character, it is already reversed\n",
        "    if len(input_str) <= 1:\n",
        "        return input_str\n",
        "    # Recursive case: reverse the substring excluding the first character, and append the first character at the end\n",
        "    else:\n",
        "        return reverse_string_recursive(input_str[1:]) + input_str[0]\n",
        "\n",
        "# Example usage\n",
        "input_string = \"Hello, World!\"\n",
        "\n",
        "# Reverse the string using recursion\n",
        "result_recursive = reverse_string_recursive(input_string)\n",
        "\n",
        "print(\"Original string:\", input_string)\n",
        "print(\"Reversed string using recursion:\", result_recursive)\n"
      ],
      "metadata": {
        "colab": {
          "base_uri": "https://localhost:8080/"
        },
        "id": "PmU84ZHHr-Rd",
        "outputId": "3273d1ee-0f1d-42b1-9af7-58d7484c0723"
      },
      "execution_count": 12,
      "outputs": [
        {
          "output_type": "stream",
          "name": "stdout",
          "text": [
            "Original string: Hello, World!\n",
            "Reversed string using recursion: !dlroW ,olleH\n"
          ]
        }
      ]
    },
    {
      "cell_type": "markdown",
      "source": [
        "**Exp 9: write a python program to count no of number in a text file**"
      ],
      "metadata": {
        "id": "IKyXMZbdslx7"
      }
    },
    {
      "cell_type": "code",
      "source": [
        "def count_words_in_file(file_path):\n",
        "    try:\n",
        "        with open(file_path, 'r') as file:\n",
        "            content = file.read()\n",
        "            # Count the number of words in the file content\n",
        "            word_count = len(content.split())\n",
        "            return word_count\n",
        "    except FileNotFoundError:\n",
        "        print(f\"File not found: {file_path}\")\n",
        "    except Exception as e:\n",
        "        print(f\"An error occurred: {e}\")\n",
        "\n",
        "# Example usage\n",
        "file_path = 'sample_text_file.txt'  # Replace with the path to your text file\n",
        "word_count = count_words_in_file(file_path)\n",
        "\n",
        "if word_count is not None:\n",
        "    print(f\"Number of words in the file: {word_count}\")\n"
      ],
      "metadata": {
        "colab": {
          "base_uri": "https://localhost:8080/"
        },
        "id": "6Ul24pbTsaTM",
        "outputId": "8231a891-d68a-4d1c-d78c-2a41b83a383d"
      },
      "execution_count": 15,
      "outputs": [
        {
          "output_type": "stream",
          "name": "stdout",
          "text": [
            "Number of words in the file: 2\n"
          ]
        }
      ]
    },
    {
      "cell_type": "markdown",
      "source": [
        "**Exp 10: write a python program to read contents of a file in reverse order**"
      ],
      "metadata": {
        "id": "WIdjGHHhtJlm"
      }
    },
    {
      "cell_type": "code",
      "source": [
        "def read_file_reverse(file_path):\n",
        "    try:\n",
        "        with open(file_path, 'r') as file:\n",
        "            # Read the contents of the file\n",
        "            content = file.read()\n",
        "            # Print the contents in reverse order\n",
        "            print(\"Contents of the file in reverse order:\")\n",
        "            print(content[::-1])\n",
        "    except FileNotFoundError:\n",
        "        print(f\"File not found: {file_path}\")\n",
        "    except Exception as e:\n",
        "        print(f\"An error occurred: {e}\")\n",
        "\n",
        "# Example usage\n",
        "file_path = 'sample_text_file.txt'  # Replace with the path to your text file\n",
        "read_file_reverse(file_path)\n"
      ],
      "metadata": {
        "colab": {
          "base_uri": "https://localhost:8080/"
        },
        "id": "x5wyxKYXs6Sh",
        "outputId": "7cf01084-1cd9-46bc-847b-faf2a194ffe6"
      },
      "execution_count": 16,
      "outputs": [
        {
          "output_type": "stream",
          "name": "stdout",
          "text": [
            "Contents of the file in reverse order:\n",
            "!dlrow olleh\n"
          ]
        }
      ]
    },
    {
      "cell_type": "markdown",
      "source": [
        "**Exp 11: write a python program to merge and join dataframes using pandas**"
      ],
      "metadata": {
        "id": "4FqCHmQNtYiH"
      }
    },
    {
      "cell_type": "code",
      "source": [
        "import pandas as pd\n",
        "\n",
        "# Create two sample DataFrames\n",
        "df1 = pd.DataFrame({\n",
        "    'ID': [1, 2, 3],\n",
        "    'Name': ['John', 'Alice', 'Bob'],\n",
        "    'Age': [25, 30, 22]\n",
        "})\n",
        "\n",
        "df2 = pd.DataFrame({\n",
        "    'ID': [2, 3, 4],\n",
        "    'City': ['New York', 'Paris', 'Tokyo'],\n",
        "    'Salary': [60000, 70000, 80000]\n",
        "})\n",
        "\n",
        "# Merge DataFrames based on a common column (ID in this case)\n",
        "merged_df = pd.merge(df1, df2, on='ID', how='inner')  # You can use 'left', 'right', or 'outer' as well\n",
        "\n",
        "print(\"Merged DataFrame:\")\n",
        "print(merged_df)\n",
        "\n",
        "# Join DataFrames based on index\n",
        "df1.set_index('ID', inplace=True)\n",
        "df2.set_index('ID', inplace=True)\n",
        "joined_df = df1.join(df2, how='inner', lsuffix='_left', rsuffix='_right')\n",
        "\n",
        "print(\"\\nJoined DataFrame:\")\n",
        "print(joined_df)\n"
      ],
      "metadata": {
        "colab": {
          "base_uri": "https://localhost:8080/"
        },
        "id": "0wMKJIjitWFY",
        "outputId": "e15684f6-1185-428d-fdb5-e6284cd16a29"
      },
      "execution_count": 17,
      "outputs": [
        {
          "output_type": "stream",
          "name": "stdout",
          "text": [
            "Merged DataFrame:\n",
            "   ID   Name  Age      City  Salary\n",
            "0   2  Alice   30  New York   60000\n",
            "1   3    Bob   22     Paris   70000\n",
            "\n",
            "Joined DataFrame:\n",
            "     Name  Age      City  Salary\n",
            "ID                              \n",
            "2   Alice   30  New York   60000\n",
            "3     Bob   22     Paris   70000\n"
          ]
        }
      ]
    },
    {
      "cell_type": "markdown",
      "source": [
        "Exp 12: write a python program to merge and join dataframes using pandas"
      ],
      "metadata": {
        "id": "SBbKSS_WtlFK"
      }
    },
    {
      "cell_type": "code",
      "source": [
        "import pandas as pd\n",
        "\n",
        "# Create three sample DataFrames\n",
        "df1 = pd.DataFrame({\n",
        "    'ID': [1, 2, 3],\n",
        "    'Name': ['John', 'Alice', 'Bob'],\n",
        "    'Age': [25, 30, 22]\n",
        "})\n",
        "\n",
        "df2 = pd.DataFrame({\n",
        "    'ID': [2, 3, 4],\n",
        "    'City': ['New York', 'Paris', 'Tokyo'],\n",
        "    'Salary': [60000, 70000, 80000]\n",
        "})\n",
        "\n",
        "df3 = pd.DataFrame({\n",
        "    'ID': [1, 2, 4],\n",
        "    'Department': ['IT', 'HR', 'Marketing'],\n",
        "    'Experience': [2, 5, 3]\n",
        "})\n",
        "\n",
        "# Merge DataFrames based on a common column (ID)\n",
        "merged_df = pd.merge(df1, df2, on='ID', how='inner')  # You can use 'left', 'right', or 'outer' as well\n",
        "\n",
        "print(\"Merged DataFrame:\")\n",
        "print(merged_df)\n",
        "\n",
        "# Join DataFrames based on index\n",
        "df1.set_index('ID', inplace=True)\n",
        "df2.set_index('ID', inplace=True)\n",
        "joined_df = df1.join([df2, df3], how='inner')\n",
        "\n",
        "print(\"\\nJoined DataFrame:\")\n",
        "print(joined_df)\n"
      ],
      "metadata": {
        "colab": {
          "base_uri": "https://localhost:8080/"
        },
        "id": "_GnKogoUtjLa",
        "outputId": "5ed114e6-bfa7-4f00-b754-da2e62c1cee5"
      },
      "execution_count": 18,
      "outputs": [
        {
          "output_type": "stream",
          "name": "stdout",
          "text": [
            "Merged DataFrame:\n",
            "   ID   Name  Age      City  Salary\n",
            "0   2  Alice   30  New York   60000\n",
            "1   3    Bob   22     Paris   70000\n",
            "\n",
            "Joined DataFrame:\n",
            "    Name  Age      City  Salary  ID Department  Experience\n",
            "2  Alice   30  New York   60000   4  Marketing           3\n"
          ]
        }
      ]
    },
    {
      "cell_type": "markdown",
      "source": [
        "Exp 13: write a python program to append contents of a file to another file"
      ],
      "metadata": {
        "id": "_kyRtP1Lty5z"
      }
    },
    {
      "cell_type": "code",
      "source": [
        "def append_file(source_path, destination_path):\n",
        "    try:\n",
        "        with open(source_path, 'r') as source_file:\n",
        "            source_content = source_file.read()\n",
        "\n",
        "        with open(destination_path, 'a') as destination_file:\n",
        "            destination_file.write(source_content)\n",
        "\n",
        "        print(f\"Contents from '{source_path}' appended to '{destination_path}' successfully.\")\n",
        "    except FileNotFoundError:\n",
        "        print(f\"File not found: {source_path}\")\n",
        "    except Exception as e:\n",
        "        print(f\"An error occurred: {e}\")\n",
        "\n",
        "# Example usage\n",
        "source_file_path = 'source.txt'  # Replace with the path to your source file\n",
        "destination_file_path = 'destination.txt'  # Replace with the path to your destination file\n",
        "\n",
        "append_file(source_file_path, destination_file_path)\n"
      ],
      "metadata": {
        "colab": {
          "base_uri": "https://localhost:8080/"
        },
        "id": "sV2ihdcUtx9D",
        "outputId": "81a29be1-ae29-4ad7-b0b3-4effd75c73d4"
      },
      "execution_count": 20,
      "outputs": [
        {
          "output_type": "stream",
          "name": "stdout",
          "text": [
            "Contents from 'source.txt' appended to 'destination.txt' successfully.\n"
          ]
        }
      ]
    },
    {
      "cell_type": "markdown",
      "source": [
        "Exp 14: How to install and laod csv files in Python Pandas"
      ],
      "metadata": {
        "id": "6N66k-xauVNY"
      }
    },
    {
      "cell_type": "code",
      "source": [
        "!pip install pandas\n"
      ],
      "metadata": {
        "colab": {
          "base_uri": "https://localhost:8080/"
        },
        "id": "e1KmI783uB_d",
        "outputId": "8433d848-3a3d-411e-dcbc-3ed54049ec1d"
      },
      "execution_count": 21,
      "outputs": [
        {
          "output_type": "stream",
          "name": "stdout",
          "text": [
            "Requirement already satisfied: pandas in /usr/local/lib/python3.10/dist-packages (1.5.3)\n",
            "Requirement already satisfied: python-dateutil>=2.8.1 in /usr/local/lib/python3.10/dist-packages (from pandas) (2.8.2)\n",
            "Requirement already satisfied: pytz>=2020.1 in /usr/local/lib/python3.10/dist-packages (from pandas) (2023.3.post1)\n",
            "Requirement already satisfied: numpy>=1.21.0 in /usr/local/lib/python3.10/dist-packages (from pandas) (1.23.5)\n",
            "Requirement already satisfied: six>=1.5 in /usr/local/lib/python3.10/dist-packages (from python-dateutil>=2.8.1->pandas) (1.16.0)\n"
          ]
        }
      ]
    },
    {
      "cell_type": "code",
      "source": [
        "import pandas as pd\n",
        "\n",
        "# Specify the path to your CSV file\n",
        "csv_file_path = '/content/sample_data/california_housing_train.csv'\n",
        "\n",
        "# Load the CSV file into a Pandas DataFrame\n",
        "df = pd.read_csv(csv_file_path,)\n",
        "\n",
        "# Display the DataFrame\n",
        "print(df)\n"
      ],
      "metadata": {
        "colab": {
          "base_uri": "https://localhost:8080/"
        },
        "id": "3ybwuPLqulSL",
        "outputId": "d93e81d7-a214-4949-8e02-de70908cf5d3"
      },
      "execution_count": 25,
      "outputs": [
        {
          "output_type": "stream",
          "name": "stdout",
          "text": [
            "       longitude  latitude  housing_median_age  total_rooms  total_bedrooms  \\\n",
            "0        -114.31     34.19                15.0       5612.0          1283.0   \n",
            "1        -114.47     34.40                19.0       7650.0          1901.0   \n",
            "2        -114.56     33.69                17.0        720.0           174.0   \n",
            "3        -114.57     33.64                14.0       1501.0           337.0   \n",
            "4        -114.57     33.57                20.0       1454.0           326.0   \n",
            "...          ...       ...                 ...          ...             ...   \n",
            "16995    -124.26     40.58                52.0       2217.0           394.0   \n",
            "16996    -124.27     40.69                36.0       2349.0           528.0   \n",
            "16997    -124.30     41.84                17.0       2677.0           531.0   \n",
            "16998    -124.30     41.80                19.0       2672.0           552.0   \n",
            "16999    -124.35     40.54                52.0       1820.0           300.0   \n",
            "\n",
            "       population  households  median_income  median_house_value  \n",
            "0          1015.0       472.0         1.4936             66900.0  \n",
            "1          1129.0       463.0         1.8200             80100.0  \n",
            "2           333.0       117.0         1.6509             85700.0  \n",
            "3           515.0       226.0         3.1917             73400.0  \n",
            "4           624.0       262.0         1.9250             65500.0  \n",
            "...           ...         ...            ...                 ...  \n",
            "16995       907.0       369.0         2.3571            111400.0  \n",
            "16996      1194.0       465.0         2.5179             79000.0  \n",
            "16997      1244.0       456.0         3.0313            103600.0  \n",
            "16998      1298.0       478.0         1.9797             85800.0  \n",
            "16999       806.0       270.0         3.0147             94600.0  \n",
            "\n",
            "[17000 rows x 9 columns]\n"
          ]
        }
      ]
    },
    {
      "cell_type": "markdown",
      "source": [
        "**Exp 15: write a program to implement data analysis and visualization with python using pandas**"
      ],
      "metadata": {
        "id": "Po-LpwRsvU9Q"
      }
    },
    {
      "cell_type": "code",
      "source": [
        "import pandas as pd\n",
        "import matplotlib.pyplot as plt\n",
        "import seaborn as sns\n",
        "\n",
        "# Create a sample DataFrame\n",
        "data = {\n",
        "    'Name': ['John', 'Alice', 'Bob', 'Charlie', 'David'],\n",
        "    'Age': [25, 30, 22, 35, 28],\n",
        "    'Salary': [50000, 60000, 70000, 80000, 55000],\n",
        "    'Department': ['IT', 'HR', 'Finance', 'IT', 'Marketing']\n",
        "}\n",
        "\n",
        "df = pd.DataFrame(data)\n",
        "\n",
        "# Display basic information about the DataFrame\n",
        "print(\"Basic Info:\")\n",
        "print(df.info())\n",
        "\n",
        "# Display summary statistics\n",
        "print(\"\\nSummary Statistics:\")\n",
        "print(df.describe())\n",
        "\n",
        "# Plot a bar chart of average salary by department using Seaborn\n",
        "plt.figure(figsize=(8, 6))\n",
        "sns.barplot(x='Department', y='Salary', data=df, ci=None)\n",
        "plt.title('Average Salary by Department')\n",
        "plt.xlabel('Department')\n",
        "plt.ylabel('Average Salary')\n",
        "plt.show()\n",
        "\n",
        "# Plot a histogram of ages using Matplotlib\n",
        "plt.figure(figsize=(8, 6))\n",
        "plt.hist(df['Age'], bins=10, color='skyblue', edgecolor='black')\n",
        "plt.title('Distribution of Ages')\n",
        "plt.xlabel('Age')\n",
        "plt.ylabel('Frequency')\n",
        "plt.show()\n"
      ],
      "metadata": {
        "colab": {
          "base_uri": "https://localhost:8080/",
          "height": 1000
        },
        "id": "UnnVyZzQulpo",
        "outputId": "10e4c0c6-036e-4880-c5d1-bb6af3c4d8be"
      },
      "execution_count": 26,
      "outputs": [
        {
          "output_type": "stream",
          "name": "stdout",
          "text": [
            "Basic Info:\n",
            "<class 'pandas.core.frame.DataFrame'>\n",
            "RangeIndex: 5 entries, 0 to 4\n",
            "Data columns (total 4 columns):\n",
            " #   Column      Non-Null Count  Dtype \n",
            "---  ------      --------------  ----- \n",
            " 0   Name        5 non-null      object\n",
            " 1   Age         5 non-null      int64 \n",
            " 2   Salary      5 non-null      int64 \n",
            " 3   Department  5 non-null      object\n",
            "dtypes: int64(2), object(2)\n",
            "memory usage: 288.0+ bytes\n",
            "None\n",
            "\n",
            "Summary Statistics:\n",
            "             Age        Salary\n",
            "count   5.000000      5.000000\n",
            "mean   28.000000  63000.000000\n",
            "std     4.949747  12041.594579\n",
            "min    22.000000  50000.000000\n",
            "25%    25.000000  55000.000000\n",
            "50%    28.000000  60000.000000\n",
            "75%    30.000000  70000.000000\n",
            "max    35.000000  80000.000000\n"
          ]
        },
        {
          "output_type": "stream",
          "name": "stderr",
          "text": [
            "<ipython-input-26-d509b61b48b2>:25: FutureWarning: \n",
            "\n",
            "The `ci` parameter is deprecated. Use `errorbar=None` for the same effect.\n",
            "\n",
            "  sns.barplot(x='Department', y='Salary', data=df, ci=None)\n"
          ]
        },
        {
          "output_type": "display_data",
          "data": {
            "text/plain": [
              "<Figure size 800x600 with 1 Axes>"
            ],
            "image/png": "[encoded data removed]"
          },
          "metadata": {}
        },
        {
          "output_type": "display_data",
          "data": {
            "text/plain": [
              "<Figure size 800x600 with 1 Axes>"
            ],
            "image/png": "[encoded data removed]"
          },
          "metadata": {}
        }
      ]
    },
    {
      "cell_type": "markdown",
      "source": [
        "**Exp 16: write a program to implement plotting functgions in pandas**"
      ],
      "metadata": {
        "id": "YGi8FYkcvlUp"
      }
    },
    {
      "cell_type": "code",
      "source": [
        "import pandas as pd\n",
        "import matplotlib.pyplot as plt\n",
        "\n",
        "# Create a sample DataFrame\n",
        "data = {\n",
        "    'Date': pd.date_range(start='2023-01-01', periods=10, freq='D'),\n",
        "    'Temperature': [28, 32, 30, 34, 31, 33, 29, 35, 30, 36],\n",
        "    'Humidity': [50, 45, 48, 52, 47, 53, 49, 55, 50, 56]\n",
        "}\n",
        "\n",
        "df = pd.DataFrame(data)\n",
        "df.set_index('Date', inplace=True)\n",
        "\n",
        "# Plot a line chart of temperature over time\n",
        "df['Temperature'].plot(figsize=(10, 6), linestyle='-', marker='o', color='blue')\n",
        "plt.title('Temperature Over Time')\n",
        "plt.xlabel('Date')\n",
        "plt.ylabel('Temperature (°C)')\n",
        "plt.grid(True)\n",
        "plt.show()\n",
        "\n",
        "# Plot a bar chart of humidity over time\n",
        "df['Humidity'].plot(kind='bar', figsize=(10, 6), color='green', alpha=0.7)\n",
        "plt.title('Humidity Over Time')\n",
        "plt.xlabel('Date')\n",
        "plt.ylabel('Humidity (%)')\n",
        "plt.grid(axis='y')\n",
        "plt.show()\n"
      ],
      "metadata": {
        "colab": {
          "base_uri": "https://localhost:8080/",
          "height": 1000
        },
        "id": "uIP2eddLvd3p",
        "outputId": "7e3841fb-39e9-4a31-a292-b9d589cd4a18"
      },
      "execution_count": 27,
      "outputs": [
        {
          "output_type": "display_data",
          "data": {
            "text/plain": [
              "<Figure size 1000x600 with 1 Axes>"
            ],
            "image/png": "[encoded data removed]"
          },
          "metadata": {}
        },
        {
          "output_type": "display_data",
          "data": {
            "text/plain": [
              "<Figure size 1000x600 with 1 Axes>"
            ],
            "image/png": "[encoded data removed]"
          },
          "metadata": {}
        }
      ]
    },
    {
      "cell_type": "code",
      "source": [],
      "metadata": {
        "id": "o3EfbUcQvtXQ"
      },
      "execution_count": null,
      "outputs": []
    }
  ]
}