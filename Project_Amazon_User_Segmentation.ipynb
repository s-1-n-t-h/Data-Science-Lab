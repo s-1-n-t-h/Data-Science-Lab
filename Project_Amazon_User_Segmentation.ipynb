{
  "cells": [
    {
      "cell_type": "markdown",
      "metadata": {
        "id": "view-in-github",
        "colab_type": "text"
      },
      "source": [
        "<a href=\"https://colab.research.google.com/github/s-1-n-t-h/Data-Science-Lab/blob/main/Project_Amazon_User_Segmentation.ipynb\" target=\"_parent\"><img src=\"https://colab.research.google.com/assets/colab-badge.svg\" alt=\"Open In Colab\"/></a>"
      ]
    },
    {
      "cell_type": "markdown",
      "metadata": {
        "id": "Z-jZGC0q0aiY"
      },
      "source": [
        "# Project: Amazon User Segmentation"
      ]
    },
    {
      "cell_type": "markdown",
      "metadata": {
        "id": "9dy7khtlyzON"
      },
      "source": [
        "## Problem Statement\n",
        "### Identify users with simliar purchase bahviour using Amazon Customer Purchase Rating data."
      ]
    },
    {
      "cell_type": "markdown",
      "metadata": {
        "id": "MYjoXR2wyzON"
      },
      "source": [
        "* The data contains the following features/ attributes:\n",
        "\n",
        "    * Customer ID\n",
        "\n",
        "    * Sex / Gender\n",
        "\n",
        "    * Age\n",
        "\n",
        "    * Income\n",
        "\n",
        "    * Rating"
      ]
    },
    {
      "cell_type": "markdown",
      "metadata": {
        "id": "Io_UTk13yzON"
      },
      "source": [
        "## Solution:\n",
        "\n",
        "* The problem requires Segmentation of Users, which can be done using Clustering Algorithms.\n",
        "\n",
        "* Some of the Clustering Algorithms available are:\n",
        "    \n",
        "    * K - Means Clustering\n",
        "\n",
        "    * Hierarchical Clustering"
      ]
    },
    {
      "cell_type": "markdown",
      "metadata": {
        "id": "jE4Rc_OO0eJM"
      },
      "source": [
        "## Importing libraries"
      ]
    },
    {
      "cell_type": "code",
      "execution_count": null,
      "metadata": {
        "id": "e0NCRPDLyzOO"
      },
      "outputs": [],
      "source": [
        "# data handling libraries\n",
        "import numpy as np\n",
        "import pandas as pd\n",
        "import matplotlib.pyplot as plt\n",
        "from sklearn.preprocessing import StandardScaler,LabelEncoder"
      ]
    },
    {
      "cell_type": "code",
      "execution_count": null,
      "metadata": {
        "id": "yU1q6qw4yzOO"
      },
      "outputs": [],
      "source": [
        "# machine learning libraries\n",
        "from sklearn.cluster import KMeans\n",
        "from scipy.cluster import hierarchy\n",
        "from sklearn.cluster import AgglomerativeClustering"
      ]
    },
    {
      "cell_type": "markdown",
      "metadata": {
        "id": "A9-xGHd20gY1"
      },
      "source": [
        "## Importing dataset"
      ]
    },
    {
      "cell_type": "code",
      "execution_count": null,
      "metadata": {
        "id": "pEtRwsjbyzOP"
      },
      "outputs": [],
      "source": [
        "dataset = pd.read_excel('Amazon User Segmentation.xls')"
      ]
    },
    {
      "cell_type": "code",
      "execution_count": null,
      "metadata": {
        "id": "ov23cmbYyzOP",
        "outputId": "6e2aa318-8722-4ca0-e5f6-63da9461067d"
      },
      "outputs": [
        {
          "data": {
            "text/html": [
              "<div>\n",
              "<style scoped>\n",
              "    .dataframe tbody tr th:only-of-type {\n",
              "        vertical-align: middle;\n",
              "    }\n",
              "\n",
              "    .dataframe tbody tr th {\n",
              "        vertical-align: top;\n",
              "    }\n",
              "\n",
              "    .dataframe thead th {\n",
              "        text-align: right;\n",
              "    }\n",
              "</style>\n",
              "<table border=\"1\" class=\"dataframe\">\n",
              "  <thead>\n",
              "    <tr style=\"text-align: right;\">\n",
              "      <th></th>\n",
              "      <th>Cus_ID</th>\n",
              "      <th>Sex</th>\n",
              "      <th>Age</th>\n",
              "      <th>Income</th>\n",
              "      <th>Rating</th>\n",
              "    </tr>\n",
              "  </thead>\n",
              "  <tbody>\n",
              "    <tr>\n",
              "      <th>0</th>\n",
              "      <td>301219</td>\n",
              "      <td>M</td>\n",
              "      <td>23</td>\n",
              "      <td>306555</td>\n",
              "      <td>44</td>\n",
              "    </tr>\n",
              "    <tr>\n",
              "      <th>1</th>\n",
              "      <td>301220</td>\n",
              "      <td>F</td>\n",
              "      <td>26</td>\n",
              "      <td>306555</td>\n",
              "      <td>91</td>\n",
              "    </tr>\n",
              "    <tr>\n",
              "      <th>2</th>\n",
              "      <td>301221</td>\n",
              "      <td>F</td>\n",
              "      <td>24</td>\n",
              "      <td>326992</td>\n",
              "      <td>7</td>\n",
              "    </tr>\n",
              "    <tr>\n",
              "      <th>3</th>\n",
              "      <td>301222</td>\n",
              "      <td>M</td>\n",
              "      <td>28</td>\n",
              "      <td>326992</td>\n",
              "      <td>87</td>\n",
              "    </tr>\n",
              "    <tr>\n",
              "      <th>4</th>\n",
              "      <td>301223</td>\n",
              "      <td>F</td>\n",
              "      <td>38</td>\n",
              "      <td>347429</td>\n",
              "      <td>45</td>\n",
              "    </tr>\n",
              "    <tr>\n",
              "      <th>...</th>\n",
              "      <td>...</td>\n",
              "      <td>...</td>\n",
              "      <td>...</td>\n",
              "      <td>...</td>\n",
              "      <td>...</td>\n",
              "    </tr>\n",
              "    <tr>\n",
              "      <th>195</th>\n",
              "      <td>301414</td>\n",
              "      <td>F</td>\n",
              "      <td>42</td>\n",
              "      <td>2452440</td>\n",
              "      <td>89</td>\n",
              "    </tr>\n",
              "    <tr>\n",
              "      <th>196</th>\n",
              "      <td>301415</td>\n",
              "      <td>F</td>\n",
              "      <td>54</td>\n",
              "      <td>2575062</td>\n",
              "      <td>32</td>\n",
              "    </tr>\n",
              "    <tr>\n",
              "      <th>197</th>\n",
              "      <td>301416</td>\n",
              "      <td>M</td>\n",
              "      <td>39</td>\n",
              "      <td>2575062</td>\n",
              "      <td>83</td>\n",
              "    </tr>\n",
              "    <tr>\n",
              "      <th>198</th>\n",
              "      <td>301417</td>\n",
              "      <td>M</td>\n",
              "      <td>39</td>\n",
              "      <td>2799869</td>\n",
              "      <td>21</td>\n",
              "    </tr>\n",
              "    <tr>\n",
              "      <th>199</th>\n",
              "      <td>301418</td>\n",
              "      <td>M</td>\n",
              "      <td>36</td>\n",
              "      <td>2799869</td>\n",
              "      <td>93</td>\n",
              "    </tr>\n",
              "  </tbody>\n",
              "</table>\n",
              "<p>200 rows × 5 columns</p>\n",
              "</div>"
            ],
            "text/plain": [
              "     Cus_ID Sex  Age   Income  Rating\n",
              "0    301219   M   23   306555      44\n",
              "1    301220   F   26   306555      91\n",
              "2    301221   F   24   326992       7\n",
              "3    301222   M   28   326992      87\n",
              "4    301223   F   38   347429      45\n",
              "..      ...  ..  ...      ...     ...\n",
              "195  301414   F   42  2452440      89\n",
              "196  301415   F   54  2575062      32\n",
              "197  301416   M   39  2575062      83\n",
              "198  301417   M   39  2799869      21\n",
              "199  301418   M   36  2799869      93\n",
              "\n",
              "[200 rows x 5 columns]"
            ]
          },
          "execution_count": 67,
          "metadata": {},
          "output_type": "execute_result"
        }
      ],
      "source": [
        "dataset"
      ]
    },
    {
      "cell_type": "code",
      "execution_count": null,
      "metadata": {
        "id": "V4f9MB9fyzOQ"
      },
      "outputs": [],
      "source": [
        "X = dataset.iloc[:,[2,4]].values"
      ]
    },
    {
      "cell_type": "code",
      "execution_count": null,
      "metadata": {
        "id": "Tbk456eMyzOQ",
        "outputId": "12b89b05-8e37-4a99-e1e0-454084b1c548"
      },
      "outputs": [
        {
          "data": {
            "text/plain": [
              "array([[ 23,  44],\n",
              "       [ 26,  91],\n",
              "       [ 24,   7],\n",
              "       [ 28,  87],\n",
              "       [ 38,  45],\n",
              "       [ 27,  86],\n",
              "       [ 42,   7],\n",
              "       [ 28, 106],\n",
              "       [ 77,   4],\n",
              "       [ 36,  81],\n",
              "       [ 81,  16],\n",
              "       [ 42, 111],\n",
              "       [ 70,  17],\n",
              "       [ 29,  87],\n",
              "       [ 45,  15],\n",
              "       [ 27,  89],\n",
              "       [ 42,  40],\n",
              "       [ 24,  74],\n",
              "       [ 63,  33],\n",
              "       [ 42, 110],\n",
              "       [ 42,  40],\n",
              "       [ 30,  82],\n",
              "       [ 56,   6],\n",
              "       [ 38,  82],\n",
              "       [ 65,  16],\n",
              "       [ 35,  92],\n",
              "       [ 54,  36],\n",
              "       [ 42,  69],\n",
              "       [ 48,  35],\n",
              "       [ 28,  98],\n",
              "       [ 72,   5],\n",
              "       [ 26,  82],\n",
              "       [ 64,   5],\n",
              "       [ 22, 104],\n",
              "       [ 59,  16],\n",
              "       [ 26,  91],\n",
              "       [ 51,  20],\n",
              "       [ 36,  82],\n",
              "       [ 44,  30],\n",
              "       [ 24,  84],\n",
              "       [ 78,  40],\n",
              "       [ 29, 104],\n",
              "       [ 58,  41],\n",
              "       [ 38,  69],\n",
              "       [ 59,  32],\n",
              "       [ 29,  73],\n",
              "       [ 60,  62],\n",
              "       [ 33,  53],\n",
              "       [ 35,  48],\n",
              "       [ 38,  48],\n",
              "       [ 59,  59],\n",
              "       [ 40,  68],\n",
              "       [ 38,  61],\n",
              "       [ 71,  68],\n",
              "       [ 60,  51],\n",
              "       [ 57,  46],\n",
              "       [ 62,  56],\n",
              "       [ 83,  52],\n",
              "       [ 33,  58],\n",
              "       [ 64,  52],\n",
              "       [ 84,  63],\n",
              "       [ 23,  62],\n",
              "       [ 81,  59],\n",
              "       [ 65,  67],\n",
              "       [ 76,  58],\n",
              "       [ 22,  67],\n",
              "       [ 52,  56],\n",
              "       [ 82,  54],\n",
              "       [ 23,  67],\n",
              "       [ 39,  53],\n",
              "       [ 84,  62],\n",
              "       [ 57,  48],\n",
              "       [ 72,  55],\n",
              "       [ 72,  63],\n",
              "       [ 71,  53],\n",
              "       [ 32,  61],\n",
              "       [ 54,  60],\n",
              "       [ 48,  54],\n",
              "       [ 28,  59],\n",
              "       [ 59,  48],\n",
              "       [ 69,  58],\n",
              "       [ 46,  62],\n",
              "       [ 81,  46],\n",
              "       [ 56,  50],\n",
              "       [ 26,  64],\n",
              "       [ 58,  52],\n",
              "       [ 66,  65],\n",
              "       [ 27,  62],\n",
              "       [ 41,  68],\n",
              "       [ 60,  52],\n",
              "       [ 82,  62],\n",
              "       [ 22,  46],\n",
              "       [ 58,  55],\n",
              "       [ 48,  45],\n",
              "       [ 39,  48],\n",
              "       [ 29,  59],\n",
              "       [ 57,  53],\n",
              "       [ 33,  56],\n",
              "       [ 58,  48],\n",
              "       [ 24,  55],\n",
              "       [ 28,  46],\n",
              "       [ 59,  54],\n",
              "       [ 81,  67],\n",
              "       [ 32,  62],\n",
              "       [ 59,  63],\n",
              "       [ 26,  48],\n",
              "       [ 80,  56],\n",
              "       [ 65,  52],\n",
              "       [ 82,  49],\n",
              "       [ 80,  54],\n",
              "       [ 78,  59],\n",
              "       [ 23,  61],\n",
              "       [ 46,  48],\n",
              "       [ 23,  52],\n",
              "       [ 22,  54],\n",
              "       [ 23,  56],\n",
              "       [ 76,  49],\n",
              "       [ 59,  67],\n",
              "       [ 62,  49],\n",
              "       [ 60,  64],\n",
              "       [ 33,  63],\n",
              "       [ 46,  45],\n",
              "       [ 48,  65],\n",
              "       [ 47, 102],\n",
              "       [ 28,  33],\n",
              "       [ 38,  87],\n",
              "       [ 52,  40],\n",
              "       [ 48, 107],\n",
              "       [ 71,  13],\n",
              "       [ 46,  84],\n",
              "       [ 57,  11],\n",
              "       [ 47,  84],\n",
              "       [ 30,  39],\n",
              "       [ 38,  80],\n",
              "       [ 24,   6],\n",
              "       [ 35,  99],\n",
              "       [ 53,   8],\n",
              "       [ 39,  82],\n",
              "       [ 23,  12],\n",
              "       [ 42,  81],\n",
              "       [ 69,   6],\n",
              "       [ 39, 105],\n",
              "       [ 34,  45],\n",
              "       [ 39,  98],\n",
              "       [ 30,  14],\n",
              "       [ 34, 109],\n",
              "       [ 58,  41],\n",
              "       [ 39,  83],\n",
              "       [ 41,  25],\n",
              "       [ 41, 101],\n",
              "       [ 52,  20],\n",
              "       [ 47,  99],\n",
              "       [ 53,  23],\n",
              "       [ 46,  86],\n",
              "       [ 57,  18],\n",
              "       [ 33, 100],\n",
              "       [ 45,   2],\n",
              "       [ 36,  88],\n",
              "       [ 41,   2],\n",
              "       [ 36,  82],\n",
              "       [ 68,  40],\n",
              "       [ 35,  93],\n",
              "       [ 23,   6],\n",
              "       [ 38, 105],\n",
              "       [ 60,  30],\n",
              "       [ 44,  84],\n",
              "       [ 51,  23],\n",
              "       [ 40, 107],\n",
              "       [ 44,  31],\n",
              "       [ 39,  71],\n",
              "       [ 48,  15],\n",
              "       [ 34,  84],\n",
              "       [ 44,  12],\n",
              "       [ 44, 104],\n",
              "       [ 63,  15],\n",
              "       [ 36,  97],\n",
              "       [ 70,  17],\n",
              "       [ 33,  78],\n",
              "       [ 71,  16],\n",
              "       [ 42, 101],\n",
              "       [ 45,  36],\n",
              "       [ 39,  97],\n",
              "       [ 56,  17],\n",
              "       [ 35,  99],\n",
              "       [ 50,  44],\n",
              "       [ 36, 109],\n",
              "       [ 65,  27],\n",
              "       [ 34,  77],\n",
              "       [ 50,  20],\n",
              "       [ 44,  96],\n",
              "       [ 41,  26],\n",
              "       [ 39,  78],\n",
              "       [ 40,   9],\n",
              "       [ 46, 102],\n",
              "       [ 57,  18],\n",
              "       [ 42,  89],\n",
              "       [ 54,  32],\n",
              "       [ 39,  83],\n",
              "       [ 39,  21],\n",
              "       [ 36,  93]])"
            ]
          },
          "execution_count": 69,
          "metadata": {},
          "output_type": "execute_result"
        }
      ],
      "source": [
        "X"
      ]
    },
    {
      "cell_type": "markdown",
      "metadata": {
        "id": "YdSO2HBXyzOQ"
      },
      "source": [
        "# K-Means Clustering -- Age vs Rating"
      ]
    },
    {
      "cell_type": "markdown",
      "metadata": {
        "id": "-Dw4Khi70u9g"
      },
      "source": [
        "## Feature Scaling"
      ]
    },
    {
      "cell_type": "markdown",
      "metadata": {
        "id": "8REFJFGC0lRN"
      },
      "source": [
        "## Optimal number of clusters via Elbow Method"
      ]
    },
    {
      "cell_type": "code",
      "execution_count": null,
      "metadata": {
        "id": "QTMQ2kuTyzOR",
        "outputId": "88ca56b0-1664-4e23-a79f-77c007c1487b"
      },
      "outputs": [
        {
          "data": {
            "image/png": "[encoded data removed]",
            "text/plain": [
              "<Figure size 640x480 with 1 Axes>"
            ]
          },
          "metadata": {},
          "output_type": "display_data"
        }
      ],
      "source": [
        "# With-in CLuster Sum of Squares -WCSS is the sum of squared distance between each point and the centroid in a cluster.\n",
        "wcss = []\n",
        "\n",
        "for i in range(1,11):\n",
        "    kmeans = KMeans(n_clusters=i, init='k-means++', random_state=0)\n",
        "    kmeans.fit(X)\n",
        "    wcss.append(kmeans.inertia_)\n",
        "\n",
        "plt.plot(range(1,11),wcss)\n",
        "plt.title('WCSS via Elbow Method')\n",
        "plt.xlabel('Number of Clusters')\n",
        "plt.ylabel('WCSS Value')\n",
        "plt.show()"
      ]
    },
    {
      "cell_type": "markdown",
      "metadata": {
        "id": "6IbZoqB-yzOR"
      },
      "source": [
        "* No much deviation after number of cluster chosen are >=6"
      ]
    },
    {
      "cell_type": "markdown",
      "metadata": {
        "id": "2QUFYaoH00H6"
      },
      "source": [
        "## K Means Model Training on Training set"
      ]
    },
    {
      "cell_type": "code",
      "execution_count": null,
      "metadata": {
        "id": "iKPm_9UcyzOR"
      },
      "outputs": [],
      "source": [
        "kmeans = KMeans(n_clusters=4, init='k-means++',random_state=0)"
      ]
    },
    {
      "cell_type": "markdown",
      "metadata": {
        "id": "iXT0yCoI07X8"
      },
      "source": [
        "## Predicting"
      ]
    },
    {
      "cell_type": "code",
      "execution_count": null,
      "metadata": {
        "id": "E2R0QF0nyzOR"
      },
      "outputs": [],
      "source": [
        "y_means = kmeans.fit_predict(X)\n"
      ]
    },
    {
      "cell_type": "markdown",
      "metadata": {
        "id": "9oG_iJfc1A0K"
      },
      "source": [
        "## Predicting results"
      ]
    },
    {
      "cell_type": "code",
      "execution_count": null,
      "metadata": {
        "id": "wh01JTR6yzOS",
        "outputId": "ea119e5f-392b-46c0-eb9e-14801209f82f"
      },
      "outputs": [
        {
          "data": {
            "text/plain": [
              "array([3, 0, 2, 0, 3, 0, 2, 0, 2, 0, 2, 0, 2, 0, 2, 0, 3, 3, 2, 0, 3, 0,\n",
              "       2, 0, 2, 0, 2, 3, 2, 0, 2, 0, 2, 0, 2, 0, 2, 0, 2, 0, 1, 0, 1, 3,\n",
              "       2, 3, 1, 3, 3, 3, 1, 3, 3, 1, 1, 1, 1, 1, 3, 1, 1, 3, 1, 1, 1, 3,\n",
              "       1, 1, 3, 3, 1, 1, 1, 1, 1, 3, 1, 3, 3, 1, 1, 3, 1, 1, 3, 1, 1, 3,\n",
              "       3, 1, 1, 3, 1, 3, 3, 3, 1, 3, 1, 3, 3, 1, 1, 3, 1, 3, 1, 1, 1, 1,\n",
              "       1, 3, 3, 3, 3, 3, 1, 1, 1, 1, 3, 3, 3, 0, 3, 0, 1, 0, 2, 0, 2, 0,\n",
              "       3, 0, 2, 0, 2, 0, 2, 0, 2, 0, 3, 0, 2, 0, 1, 0, 2, 0, 2, 0, 2, 0,\n",
              "       2, 0, 2, 0, 2, 0, 1, 0, 2, 0, 2, 0, 2, 0, 2, 3, 2, 0, 2, 0, 2, 0,\n",
              "       2, 0, 2, 0, 2, 0, 2, 0, 1, 0, 2, 0, 2, 0, 2, 0, 2, 0, 2, 0, 2, 0,\n",
              "       2, 0], dtype=int32)"
            ]
          },
          "execution_count": 73,
          "metadata": {},
          "output_type": "execute_result"
        }
      ],
      "source": [
        "y_means"
      ]
    },
    {
      "cell_type": "markdown",
      "metadata": {
        "id": "MokDuSCS1J0n"
      },
      "source": [
        "## Visualising Clusters"
      ]
    },
    {
      "cell_type": "code",
      "execution_count": null,
      "metadata": {
        "id": "OnprzcKeyzOS",
        "outputId": "31a9c367-0dd7-4845-a5d4-4e25b28d4e1c"
      },
      "outputs": [
        {
          "data": {
            "image/png": "[encoded data removed]",
            "text/plain": [
              "<Figure size 640x480 with 1 Axes>"
            ]
          },
          "metadata": {},
          "output_type": "display_data"
        }
      ],
      "source": [
        "plt.scatter(X[y_means==0, 0], X[y_means==0, 1],s=30, c='m', label='Cluster 1')\n",
        "plt.scatter(X[y_means==1, 0],X[y_means==1,1],s=30,c='g',label='Cluster 2')\n",
        "plt.scatter(X[y_means==2,0],X[y_means==2,1],s=30,c='r',label='Cluster 3')\n",
        "plt.scatter(X[y_means==3,0],X[y_means==3,1],s=30,c='y',label='Cluster 4')\n",
        "plt.scatter(kmeans.cluster_centers_[:,0],kmeans.cluster_centers_[:,1],s=60,c='black',label='Centroids')\n",
        "plt.title('Cluster of Amazon users')\n",
        "plt.xlabel('Age')\n",
        "plt.ylabel('Purchase Rating')\n",
        "plt.legend()\n",
        "plt.show()\n"
      ]
    },
    {
      "cell_type": "markdown",
      "metadata": {
        "id": "5wHcNTSFyzOS"
      },
      "source": []
    },
    {
      "cell_type": "markdown",
      "metadata": {
        "id": "39XCqExhyzOS"
      },
      "source": []
    },
    {
      "cell_type": "markdown",
      "metadata": {
        "id": "QWnZ2rEtyzOS"
      },
      "source": [
        "# Hierarchical Clustering -- Income vs Rating"
      ]
    },
    {
      "cell_type": "code",
      "execution_count": null,
      "metadata": {
        "id": "vHJbHZF7yzOT"
      },
      "outputs": [],
      "source": [
        "X = dataset.iloc[:,[3,4]].values"
      ]
    },
    {
      "cell_type": "code",
      "execution_count": null,
      "metadata": {
        "id": "MnpjKjT4yzOT",
        "outputId": "9292727a-9a87-4d9c-fbfd-0e1fb1f977de"
      },
      "outputs": [
        {
          "data": {
            "text/plain": [
              "array([[ 306555,      44],\n",
              "       [ 306555,      91],\n",
              "       [ 326992,       7],\n",
              "       [ 326992,      87],\n",
              "       [ 347429,      45],\n",
              "       [ 347429,      86],\n",
              "       [ 367866,       7],\n",
              "       [ 367866,     106],\n",
              "       [ 388303,       4],\n",
              "       [ 388303,      81],\n",
              "       [ 388303,      16],\n",
              "       [ 388303,     111],\n",
              "       [ 408740,      17],\n",
              "       [ 408740,      87],\n",
              "       [ 408740,      15],\n",
              "       [ 408740,      89],\n",
              "       [ 429177,      40],\n",
              "       [ 429177,      74],\n",
              "       [ 470051,      33],\n",
              "       [ 470051,     110],\n",
              "       [ 490488,      40],\n",
              "       [ 490488,      82],\n",
              "       [ 510925,       6],\n",
              "       [ 510925,      82],\n",
              "       [ 572236,      16],\n",
              "       [ 572236,      92],\n",
              "       [ 572236,      36],\n",
              "       [ 572236,      69],\n",
              "       [ 592673,      35],\n",
              "       [ 592673,      98],\n",
              "       [ 613110,       5],\n",
              "       [ 613110,      82],\n",
              "       [ 674421,       5],\n",
              "       [ 674421,     104],\n",
              "       [ 674421,      16],\n",
              "       [ 674421,      91],\n",
              "       [ 694858,      20],\n",
              "       [ 694858,      82],\n",
              "       [ 756169,      30],\n",
              "       [ 756169,      84],\n",
              "       [ 776606,      40],\n",
              "       [ 776606,     104],\n",
              "       [ 797043,      41],\n",
              "       [ 797043,      69],\n",
              "       [ 797043,      32],\n",
              "       [ 797043,      73],\n",
              "       [ 817480,      62],\n",
              "       [ 817480,      53],\n",
              "       [ 817480,      48],\n",
              "       [ 817480,      48],\n",
              "       [ 858354,      59],\n",
              "       [ 858354,      68],\n",
              "       [ 878791,      61],\n",
              "       [ 878791,      68],\n",
              "       [ 878791,      51],\n",
              "       [ 878791,      46],\n",
              "       [ 899228,      56],\n",
              "       [ 899228,      52],\n",
              "       [ 940102,      58],\n",
              "       [ 940102,      52],\n",
              "       [ 940102,      63],\n",
              "       [ 940102,      62],\n",
              "       [ 960539,      59],\n",
              "       [ 960539,      67],\n",
              "       [ 980976,      58],\n",
              "       [ 980976,      67],\n",
              "       [ 980976,      56],\n",
              "       [ 980976,      54],\n",
              "       [ 980976,      67],\n",
              "       [ 980976,      53],\n",
              "       [1001413,      62],\n",
              "       [1001413,      48],\n",
              "       [1021850,      55],\n",
              "       [1021850,      63],\n",
              "       [1103598,      53],\n",
              "       [1103598,      61],\n",
              "       [1103598,      60],\n",
              "       [1103598,      54],\n",
              "       [1103598,      59],\n",
              "       [1103598,      48],\n",
              "       [1103598,      58],\n",
              "       [1103598,      62],\n",
              "       [1103598,      46],\n",
              "       [1103598,      50],\n",
              "       [1103598,      64],\n",
              "       [1103598,      52],\n",
              "       [1164909,      65],\n",
              "       [1164909,      62],\n",
              "       [1185346,      68],\n",
              "       [1185346,      52],\n",
              "       [1205783,      62],\n",
              "       [1205783,      46],\n",
              "       [1226220,      55],\n",
              "       [1226220,      45],\n",
              "       [1226220,      48],\n",
              "       [1226220,      59],\n",
              "       [1226220,      53],\n",
              "       [1226220,      56],\n",
              "       [1246657,      48],\n",
              "       [1246657,      55],\n",
              "       [1267094,      46],\n",
              "       [1267094,      54],\n",
              "       [1267094,      67],\n",
              "       [1267094,      62],\n",
              "       [1267094,      63],\n",
              "       [1267094,      48],\n",
              "       [1287531,      56],\n",
              "       [1287531,      52],\n",
              "       [1287531,      49],\n",
              "       [1287531,      54],\n",
              "       [1287531,      59],\n",
              "       [1287531,      61],\n",
              "       [1307968,      48],\n",
              "       [1307968,      52],\n",
              "       [1328405,      54],\n",
              "       [1328405,      56],\n",
              "       [1328405,      49],\n",
              "       [1328405,      67],\n",
              "       [1369279,      49],\n",
              "       [1369279,      64],\n",
              "       [1369279,      63],\n",
              "       [1369279,      45],\n",
              "       [1410153,      65],\n",
              "       [1410153,     102],\n",
              "       [1430590,      33],\n",
              "       [1430590,      87],\n",
              "       [1451027,      40],\n",
              "       [1451027,     107],\n",
              "       [1451027,      13],\n",
              "       [1451027,      84],\n",
              "       [1451027,      11],\n",
              "       [1451027,      84],\n",
              "       [1471464,      39],\n",
              "       [1471464,      80],\n",
              "       [1491901,       6],\n",
              "       [1491901,      99],\n",
              "       [1491901,       8],\n",
              "       [1491901,      82],\n",
              "       [1512338,      12],\n",
              "       [1512338,      81],\n",
              "       [1532775,       6],\n",
              "       [1532775,     105],\n",
              "       [1553212,      45],\n",
              "       [1553212,      98],\n",
              "       [1573649,      14],\n",
              "       [1573649,     109],\n",
              "       [1573649,      41],\n",
              "       [1573649,      83],\n",
              "       [1594086,      25],\n",
              "       [1594086,     101],\n",
              "       [1594086,      20],\n",
              "       [1594086,      99],\n",
              "       [1594086,      23],\n",
              "       [1594086,      86],\n",
              "       [1594086,      18],\n",
              "       [1594086,     100],\n",
              "       [1594086,       2],\n",
              "       [1594086,      88],\n",
              "       [1594086,       2],\n",
              "       [1594086,      82],\n",
              "       [1614523,      40],\n",
              "       [1614523,      93],\n",
              "       [1655397,       6],\n",
              "       [1655397,     105],\n",
              "       [1737145,      30],\n",
              "       [1737145,      84],\n",
              "       [1757582,      23],\n",
              "       [1757582,     107],\n",
              "       [1778019,      31],\n",
              "       [1778019,      71],\n",
              "       [1778019,      15],\n",
              "       [1778019,      84],\n",
              "       [1778019,      12],\n",
              "       [1778019,     104],\n",
              "       [1798456,      15],\n",
              "       [1798456,      97],\n",
              "       [1798456,      17],\n",
              "       [1798456,      78],\n",
              "       [1900641,      16],\n",
              "       [1900641,     101],\n",
              "       [1982389,      36],\n",
              "       [1982389,      97],\n",
              "       [2002826,      17],\n",
              "       [2002826,      99],\n",
              "       [2023263,      44],\n",
              "       [2023263,     109],\n",
              "       [2064137,      27],\n",
              "       [2064137,      77],\n",
              "       [2105011,      20],\n",
              "       [2105011,      96],\n",
              "       [2105011,      26],\n",
              "       [2105011,      78],\n",
              "       [2309381,       9],\n",
              "       [2309381,     102],\n",
              "       [2452440,      18],\n",
              "       [2452440,      89],\n",
              "       [2575062,      32],\n",
              "       [2575062,      83],\n",
              "       [2799869,      21],\n",
              "       [2799869,      93]])"
            ]
          },
          "execution_count": 76,
          "metadata": {},
          "output_type": "execute_result"
        }
      ],
      "source": [
        "X"
      ]
    },
    {
      "cell_type": "markdown",
      "metadata": {
        "id": "Z5a5lDbMyzOT"
      },
      "source": [
        "## Optimal number of clusters via DendoGrams"
      ]
    },
    {
      "cell_type": "code",
      "execution_count": null,
      "metadata": {
        "id": "gTjwDQzoyzOT",
        "outputId": "3bf539a0-4bc6-4c09-eaf1-fbfb5a39af19"
      },
      "outputs": [
        {
          "data": {
            "image/png": "[encoded data removed]",
            "text/plain": [
              "<Figure size 640x480 with 1 Axes>"
            ]
          },
          "metadata": {},
          "output_type": "display_data"
        }
      ],
      "source": [
        "dendrogram = hierarchy.dendrogram(hierarchy.linkage(X,method='ward'))\n",
        "plt.title('DEndrogram')\n",
        "plt.xlabel('Income')\n",
        "plt.ylabel('Euclidean Distance')\n",
        "plt.show()"
      ]
    },
    {
      "cell_type": "markdown",
      "metadata": {
        "id": "hx0Wk3wZyzOT"
      },
      "source": [
        "## Hierarchical Clustering Model Training on Training set"
      ]
    },
    {
      "cell_type": "code",
      "execution_count": null,
      "metadata": {
        "id": "fv7F_nQTyzOT"
      },
      "outputs": [],
      "source": [
        "hc = AgglomerativeClustering(n_clusters=2,affinity='euclidean',linkage='ward')\n",
        "y_hc = hc.fit_predict(X)"
      ]
    },
    {
      "cell_type": "code",
      "execution_count": null,
      "metadata": {
        "id": "BUz0cUb2yzOT",
        "outputId": "e0f2bc9d-db9d-4529-e7b8-c4b60d8ba31d"
      },
      "outputs": [
        {
          "data": {
            "text/plain": [
              "array([1, 1, 1, 1, 1, 1, 1, 1, 1, 1, 1, 1, 1, 1, 1, 1, 1, 1, 1, 1, 1, 1,\n",
              "       1, 1, 1, 1, 1, 1, 1, 1, 1, 1, 1, 1, 1, 1, 1, 1, 1, 1, 1, 1, 1, 1,\n",
              "       1, 1, 1, 1, 1, 1, 1, 1, 1, 1, 1, 1, 1, 1, 1, 1, 1, 1, 1, 1, 1, 1,\n",
              "       1, 1, 1, 1, 1, 1, 1, 1, 0, 0, 0, 0, 0, 0, 0, 0, 0, 0, 0, 0, 0, 0,\n",
              "       0, 0, 0, 0, 0, 0, 0, 0, 0, 0, 0, 0, 0, 0, 0, 0, 0, 0, 0, 0, 0, 0,\n",
              "       0, 0, 0, 0, 0, 0, 0, 0, 0, 0, 0, 0, 0, 0, 0, 0, 0, 0, 0, 0, 0, 0,\n",
              "       0, 0, 0, 0, 0, 0, 0, 0, 0, 0, 0, 0, 0, 0, 0, 0, 0, 0, 0, 0, 0, 0,\n",
              "       0, 0, 0, 0, 0, 0, 0, 0, 0, 0, 0, 0, 0, 0, 0, 0, 0, 0, 0, 0, 0, 0,\n",
              "       0, 0, 0, 0, 0, 0, 0, 0, 0, 0, 0, 0, 0, 0, 0, 0, 0, 0, 0, 0, 0, 0,\n",
              "       0, 0])"
            ]
          },
          "execution_count": 86,
          "metadata": {},
          "output_type": "execute_result"
        }
      ],
      "source": [
        "y_hc"
      ]
    },
    {
      "cell_type": "markdown",
      "metadata": {
        "id": "sHUgc2coyzOU"
      },
      "source": [
        "## Visualizing Clusters"
      ]
    },
    {
      "cell_type": "code",
      "execution_count": null,
      "metadata": {
        "id": "28eLhdqYyzOU",
        "outputId": "f58246f5-2b5f-4674-8335-6b079599e2d8"
      },
      "outputs": [
        {
          "data": {
            "image/png": "[encoded data removed]",
            "text/plain": [
              "<Figure size 640x480 with 1 Axes>"
            ]
          },
          "metadata": {},
          "output_type": "display_data"
        }
      ],
      "source": [
        "plt.scatter(X[y_hc == 0, 0], X[y_hc == 0, 1], s=30, c='red', label='Cluster 1')\n",
        "plt.scatter(X[y_hc == 1, 0], X[y_hc == 1, 1], s=30, c='cyan', label='Cluster 2')\n",
        "\n",
        "plt.title('Amazon Users')\n",
        "plt.xlabel('Income')\n",
        "plt.ylabel('Rating')\n",
        "\n",
        "plt.legend()\n",
        "plt.show()\n"
      ]
    },
    {
      "cell_type": "markdown",
      "metadata": {
        "id": "qgYY-CZIyzOU"
      },
      "source": [
        "* As we can see K-Menas suggests 4 Clusters of users whereas Hierarchical suggests 2 Clusters"
      ]
    }
  ],
  "metadata": {
    "colab": {
      "provenance": [],
      "include_colab_link": true
    },
    "interpreter": {
      "hash": "9039ffaa441cdf0b8ef4cf5109f6ed9fbdc2903ec5a3d95939e636fb5ec3d92c"
    },
    "kernelspec": {
      "display_name": "Python 3.9.13 ('tensorflow')",
      "language": "python",
      "name": "python3"
    },
    "language_info": {
      "codemirror_mode": {
        "name": "ipython",
        "version": 3
      },
      "file_extension": ".py",
      "mimetype": "text/x-python",
      "name": "python",
      "nbconvert_exporter": "python",
      "pygments_lexer": "ipython3",
      "version": "3.9.13"
    }
  },
  "nbformat": 4,
  "nbformat_minor": 0
}